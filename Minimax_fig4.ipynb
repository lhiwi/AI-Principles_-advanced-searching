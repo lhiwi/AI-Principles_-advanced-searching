{
  "nbformat": 4,
  "nbformat_minor": 0,
  "metadata": {
    "colab": {
      "provenance": [],
      "authorship_tag": "ABX9TyO+iOR7qEKMtMHWy7MmeeIq",
      "include_colab_link": true
    },
    "kernelspec": {
      "name": "python3",
      "display_name": "Python 3"
    },
    "language_info": {
      "name": "python"
    }
  },
  "cells": [
    {
      "cell_type": "markdown",
      "metadata": {
        "id": "view-in-github",
        "colab_type": "text"
      },
      "source": [
        "<a href=\"https://colab.research.google.com/github/lhiwi/AI-Principles_-advanced-searching/blob/main/Minimax_fig4.ipynb\" target=\"_parent\"><img src=\"https://colab.research.google.com/assets/colab-badge.svg\" alt=\"Open In Colab\"/></a>"
      ]
    },
    {
      "cell_type": "code",
      "execution_count": 1,
      "metadata": {
        "id": "-Te9vCp2scyA"
      },
      "outputs": [],
      "source": [
        "import networkx as nx\n",
        "import matplotlib.pyplot as plt\n",
        "\n",
        "# Step 1: Define the Road Network Graph\n",
        "graph = nx.Graph()\n",
        "\n",
        "# Step 2: Add cities (nodes) and roads (edges)\n",
        "edges = [\n",
        "    (\"Addis Ababa\", \"Adama\"), (\"Addis Ababa\", \"Ambo\"),\n",
        "    (\"Addis Ababa\", \"Buta Jirra\"),\n",
        "    (\"Adama\", \"Mojo\"), (\"Adama\", \"Dire Dawa\"),\n",
        "    (\"Dire Dawa\", \"Harar\"), (\"Dire Dawa\", \"Chiro\"),\n",
        "    (\"Mojo\", \"Kafa\"), (\"Mojo\", \"Dilla\"),\n",
        "    (\"Buta Jirra\", \"Worabe\"),(\"Buta Jirra\", \"Wolkite\"),\n",
        "    (\"Wolkite\", \"Bench Naji\"), (\"Wolkite\", \"Tepi\"),\n",
        "    (\"Worabe\", \"Hossana\"), (\"Worabe\", \"Durame\"),\n",
        "    (\"Ambo\", \"Gedo\"), (\"Ambo\", \"Nekemte\"),\n",
        "    (\"Gedo\", \"Shambu\"), (\"Gedo\", \"Fincha\"),\n",
        "    (\"Nekemte\", \"Gimbi\"),(\"Nekemte\", \"Limu\")\n",
        "]\n",
        "\n",
        "graph.add_edges_from(edges)\n"
      ]
    },
    {
      "cell_type": "code",
      "source": [],
      "metadata": {
        "id": "td6gY2js8QNi"
      },
      "execution_count": null,
      "outputs": []
    }
  ]
}