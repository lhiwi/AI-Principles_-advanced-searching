{
  "nbformat": 4,
  "nbformat_minor": 0,
  "metadata": {
    "colab": {
      "provenance": [],
      "authorship_tag": "ABX9TyMJBhV3QP/yvYh39CPJs/Lx",
      "include_colab_link": true
    },
    "kernelspec": {
      "name": "python3",
      "display_name": "Python 3"
    },
    "language_info": {
      "name": "python"
    }
  },
  "cells": [
    {
      "cell_type": "markdown",
      "metadata": {
        "id": "view-in-github",
        "colab_type": "text"
      },
      "source": [
        "<a href=\"https://colab.research.google.com/github/lhiwi/AI-Principles_-advanced-searching/blob/main/Minimax_fig4.ipynb\" target=\"_parent\"><img src=\"https://colab.research.google.com/assets/colab-badge.svg\" alt=\"Open In Colab\"/></a>"
      ]
    },
    {
      "cell_type": "code",
      "execution_count": 1,
      "metadata": {
        "id": "-Te9vCp2scyA"
      },
      "outputs": [],
      "source": [
        "import networkx as nx\n",
        "import matplotlib.pyplot as plt\n",
        "\n",
        "# Step 1: Define the Road Network Graph\n",
        "graph = nx.Graph()\n",
        "\n",
        "# Step 2: Add cities (nodes) and roads (edges)\n",
        "edges = [\n",
        "    (\"Addis Ababa\", \"Adama\"), (\"Addis Ababa\", \"Ambo\"),\n",
        "    (\"Addis Ababa\", \"Buta Jirra\"),\n",
        "    (\"Adama\", \"Mojo\"), (\"Adama\", \"Dire Dawa\"),\n",
        "    (\"Dire Dawa\", \"Harar\"), (\"Dire Dawa\", \"Chiro\"),\n",
        "    (\"Mojo\", \"Kafa\"), (\"Mojo\", \"Dilla\"),\n",
        "    (\"Buta Jirra\", \"Worabe\"),(\"Buta Jirra\", \"Wolkite\"),\n",
        "    (\"Wolkite\", \"Bench Naji\"), (\"Wolkite\", \"Tepi\"),\n",
        "    (\"Worabe\", \"Hossana\"), (\"Worabe\", \"Durame\"),\n",
        "    (\"Ambo\", \"Gedo\"), (\"Ambo\", \"Nekemte\"),\n",
        "    (\"Gedo\", \"Shambu\"), (\"Gedo\", \"Fincha\"),\n",
        "    (\"Nekemte\", \"Gimbi\"),(\"Nekemte\", \"Limu\")\n",
        "]\n",
        "\n",
        "graph.add_edges_from(edges)\n"
      ]
    },
    {
      "cell_type": "markdown",
      "source": [
        "# utility values to terminal cities"
      ],
      "metadata": {
        "id": "991rmFdMFJY6"
      }
    },
    {
      "cell_type": "code",
      "source": [
        "\n",
        "coffee_quality = {\n",
        "    \"Harar\": 10, \"Chiro\": 6, \"Dilla\": 9, \"Bench Naji\": 5,\n",
        "    \"Tepi\": 6, \"Durame\": 5, \"Hossana\": 6, \"Limu\": 8,\n",
        "    \"Gimbi\": 8, \"Shambu\": 4, \"Fincha\": 5, \"Kafa\": 7\n",
        "}\n",
        "\n",
        "# default value of 0 to non-terminal states\n",
        "for city in graph.nodes:\n",
        "    if city not in coffee_quality:\n",
        "        coffee_quality[city] = 0\n"
      ],
      "metadata": {
        "id": "lC4zBvFdEx0X"
      },
      "execution_count": 4,
      "outputs": []
    },
    {
      "cell_type": "markdown",
      "source": [
        "### implementing minimax algorithm\n",
        "maximizing_player = True (Agent's turn), False (Adversary's turn)"
      ],
      "metadata": {
        "id": "KdiBgiQhGBNe"
      }
    },
    {
      "cell_type": "code",
      "source": [
        "def minimax(node, depth, maximizing_player):\n",
        "\n",
        "    # Base case\n",
        "    if depth == 0 or node in coffee_quality:\n",
        "        return coffee_quality[node]\n",
        "\n",
        "    if maximizing_player:  # Agent's turn (maximize coffee quality)\n",
        "        max_eval = float('-inf')\n",
        "        for neighbor in graph.neighbors(node):\n",
        "            eval = minimax(neighbor, depth - 1, False)  # Opponent's turn\n",
        "            max_eval = max(max_eval, eval)\n",
        "        return max_eval\n",
        "\n",
        "    else:  # Adversary's turn (minimize coffee quality)\n",
        "        min_eval = float('inf')\n",
        "        for neighbor in graph.neighbors(node):\n",
        "            eval = minimax(neighbor, depth - 1, True)  # Agent's turn\n",
        "            min_eval = min(min_eval, eval)\n",
        "        return min_eval\n"
      ],
      "metadata": {
        "id": "1hVPaAqHFxm_"
      },
      "execution_count": 5,
      "outputs": []
    },
    {
      "cell_type": "code",
      "source": [
        "start_node = \"Addis Ababa\"\n",
        "best_move = None\n",
        "best_value = float('-inf')\n",
        "\n",
        "for neighbor in graph.neighbors(start_node):\n",
        "    move_value = minimax(neighbor, depth=3, maximizing_player=False)  # Search depth of 3\n",
        "    print(f\"Move to {neighbor} has minimax value: {move_value}\")\n",
        "\n",
        "    if move_value > best_value:\n",
        "        best_value = move_value\n",
        "        best_move = neighbor\n",
        "\n",
        "print(f\"\\n🔹 Optimal Move from {start_node} is to {best_move} with expected coffee quality {best_value}\")\n"
      ],
      "metadata": {
        "colab": {
          "base_uri": "https://localhost:8080/"
        },
        "id": "jx-ufgOEGtyE",
        "outputId": "1d9c7023-c9ae-42df-90fb-55f8e205f3be"
      },
      "execution_count": 6,
      "outputs": [
        {
          "output_type": "stream",
          "name": "stdout",
          "text": [
            "Move to Adama has minimax value: 0\n",
            "Move to Ambo has minimax value: 0\n",
            "Move to Buta Jirra has minimax value: 0\n",
            "\n",
            "🔹 Optimal Move from Addis Ababa is to Adama with expected coffee quality 0\n"
          ]
        }
      ]
    },
    {
      "cell_type": "code",
      "source": [],
      "metadata": {
        "id": "o3Nm_noiG01o"
      },
      "execution_count": null,
      "outputs": []
    }
  ]
}