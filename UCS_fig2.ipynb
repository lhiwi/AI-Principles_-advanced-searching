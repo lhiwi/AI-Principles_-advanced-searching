{
  "nbformat": 4,
  "nbformat_minor": 0,
  "metadata": {
    "colab": {
      "provenance": [],
      "authorship_tag": "ABX9TyMd+eMJ8Q8S+NJweXGoiJJf",
      "include_colab_link": true
    },
    "kernelspec": {
      "name": "python3",
      "display_name": "Python 3"
    },
    "language_info": {
      "name": "python"
    }
  },
  "cells": [
    {
      "cell_type": "markdown",
      "metadata": {
        "id": "view-in-github",
        "colab_type": "text"
      },
      "source": [
        "<a href=\"https://colab.research.google.com/github/lhiwi/AI-Principles_-advanced-searching/blob/main/UCS_fig2.ipynb\" target=\"_parent\"><img src=\"https://colab.research.google.com/assets/colab-badge.svg\" alt=\"Open In Colab\"/></a>"
      ]
    },
    {
      "cell_type": "markdown",
      "source": [
        "Figure 2, a state space graph with backward cost for the traveling Ethiopia search problem\n",
        "\n",
        "\n",
        "\n"
      ],
      "metadata": {
        "id": "Tpg8Z3POP3WB"
      }
    },
    {
      "cell_type": "code",
      "source": [
        "import heapq\n",
        "\n",
        "class EthiopiaGraph:\n",
        "    def __init__(self):\n",
        "        \"\"\"Initialize Ethiopia's state space as a graph (Adjacency List).\"\"\"\n",
        "        self.graph = {}\n",
        "\n",
        "    def add_connection(self, city1, city2, cost):\n",
        "        \"\"\"Add a bi-directional road (edge) between cities with a given cost.\"\"\"\n",
        "        if city1 not in self.graph:\n",
        "            self.graph[city1] = []\n",
        "        if city2 not in self.graph:\n",
        "            self.graph[city2] = []\n",
        "\n",
        "        self.graph[city1].append((city2, cost))\n",
        "        self.graph[city2].append((city1, cost))  # Since travel is bidirectional\n",
        "\n",
        "    def get_neighbors(self, city):\n",
        "        \"\"\"Retrieve neighboring cities and their associated travel costs.\"\"\"\n",
        "        return self.graph.get(city, [])\n"
      ],
      "metadata": {
        "id": "ALKOR3LqJOQY"
      },
      "execution_count": null,
      "outputs": []
    },
    {
      "cell_type": "code",
      "source": [
        "ethiopia_map = EthiopiaGraph()\n",
        "\n",
        "# Sample connections from Figure 2 (add all edges manually)\n",
        "ethiopia_map.add_connection(\"Addis Ababa\", \"Debre Birhan\", 6)\n",
        "ethiopia_map.add_connection(\"Addis Ababa\", \"Ambo\", 8)\n",
        "ethiopia_map.add_connection(\"Addis Ababa\", \"Adama\", 4)\n",
        "ethiopia_map.add_connection(\"Addis Ababa\", \"Jimma\", 9)\n",
        "\n",
        "ethiopia_map.add_connection(\"Debre Birhan\", \"Dessie\", 11)\n",
        "ethiopia_map.add_connection(\"Debre Birhan\", \"Debre Sina\", 5)\n",
        "ethiopia_map.add_connection(\"Dessie\", \"Lalibela\", 17)\n",
        "ethiopia_map.add_connection(\"Dessie\", \"Woldia\", 8)\n",
        "ethiopia_map.add_connection(\"Lalibela\", \"Gondar\", 15)\n",
        "ethiopia_map.add_connection(\"Lalibela\", \"Sekota\", 10)\n",
        "\n",
        "ethiopia_map.add_connection(\"Axum\", \"Gondar\", 20)\n",
        "ethiopia_map.add_connection(\"Axum\", \"Shire\", 8)\n",
        "ethiopia_map.add_connection(\"Gondar\", \"Bahir Dar\", 10)\n",
        "\n",
        "ethiopia_map.add_connection(\"Adama\", \"Asella\", 7)\n",
        "ethiopia_map.add_connection(\"Adama\", \"Batu\", 6)\n",
        "ethiopia_map.add_connection(\"Asella\", \"Dodola\", 9)\n",
        "ethiopia_map.add_connection(\"Dodola\", \"Bale\", 13)\n",
        "ethiopia_map.add_connection(\"Bale\", \"Goba\", 5)\n",
        "ethiopia_map.add_connection(\"Goba\", \"Sof Oumer\", 18)\n",
        "\n",
        "ethiopia_map.add_connection(\"Babile\", \"Harar\", 3)\n",
        "ethiopia_map.add_connection(\"Babile\", \"Jijiga\", 5)\n",
        "\n",
        "ethiopia_map.add_connection(\"Jimma\", \"Bonga\", 7)\n",
        "ethiopia_map.add_connection(\"Bonga\", \"Mizan Teferi\", 6)\n",
        "\n",
        "ethiopia_map.add_connection(\"Arba Minch\", \"Wolaita Sodo\", 10)\n",
        "ethiopia_map.add_connection(\"Wolaita Sodo\", \"Hossana\", 8)\n"
      ],
      "metadata": {
        "id": "Dzi4PKVrHX6g"
      },
      "execution_count": null,
      "outputs": []
    },
    {
      "cell_type": "code",
      "source": [
        "class UniformCostSearch:\n",
        "    def __init__(self, graph):\n",
        "        \"\"\"Initialize UCS with the Ethiopia graph.\"\"\"\n",
        "        self.graph = graph\n",
        "\n",
        "    def find_path(self, start, goal):\n",
        "        \"\"\"\n",
        "        Perform UCS from `start` to `goal`, returning the optimal path and cost.\n",
        "        \"\"\"\n",
        "        priority_queue = [(0, start, [start])]  # (cost, city, path)\n",
        "        visited = set()\n",
        "\n",
        "        while priority_queue:\n",
        "            cost, city, path = heapq.heappop(priority_queue)\n",
        "\n",
        "            if city in visited:\n",
        "                continue\n",
        "            visited.add(city)\n",
        "\n",
        "            # Goal Reached\n",
        "            if city == goal:\n",
        "                return cost, path\n",
        "\n",
        "            # Expand Neighbors\n",
        "            for neighbor, edge_cost in self.graph.get_neighbors(city):\n",
        "                if neighbor not in visited:\n",
        "                    heapq.heappush(priority_queue, (cost + edge_cost, neighbor, path + [neighbor]))\n",
        "\n",
        "        return float(\"inf\"), []  # No path found\n"
      ],
      "metadata": {
        "id": "z3gypu1A8g4E"
      },
      "execution_count": null,
      "outputs": []
    },
    {
      "cell_type": "code",
      "source": [
        "# Initialize UCS and find path\n",
        "ucs_solver = UniformCostSearch(ethiopia_map)\n",
        "cost, path = ucs_solver.find_path(\"Addis Ababa\", \"Lalibela\")\n",
        "\n",
        "# Print results\n",
        "print(f\"🛣️ Shortest Path to Lalibela: {' -> '.join(path)}\")\n",
        "print(f\"🔢 Total Cost: {cost}\")\n"
      ],
      "metadata": {
        "colab": {
          "base_uri": "https://localhost:8080/"
        },
        "id": "e1e-lFYAKpeM",
        "outputId": "670b67e4-515d-4ce1-97e6-70ac951b817e"
      },
      "execution_count": null,
      "outputs": [
        {
          "output_type": "stream",
          "name": "stdout",
          "text": [
            "🛣️ Shortest Path to Lalibela: Addis Ababa -> Debre Birhan -> Dessie -> Lalibela\n",
            "🔢 Total Cost: 34\n"
          ]
        }
      ]
    },
    {
      "cell_type": "code",
      "source": [
        "class MultiGoalUCS:\n",
        "    def __init__(self, graph):\n",
        "        \"\"\"Initialize UCS for multiple goals.\"\"\"\n",
        "        self.graph = graph\n",
        "\n",
        "    def search(self, start, goals):\n",
        "        \"\"\"\n",
        "        Perform UCS to visit all goal states while minimizing cost.\n",
        "        \"\"\"\n",
        "        priority_queue = [(0, start, [start], set())]  # (cost, current_city, path, visited_goals)\n",
        "        best_solution = None\n",
        "        best_cost = float(\"inf\")\n",
        "\n",
        "        while priority_queue:\n",
        "            cost, city, path, visited_goals = heapq.heappop(priority_queue)\n",
        "\n",
        "            # If all goal states are visited, update the best solution\n",
        "            if visited_goals == set(goals):\n",
        "                if cost < best_cost:\n",
        "                    best_cost = cost\n",
        "                    best_solution = path\n",
        "                continue\n",
        "\n",
        "            # Expand neighbors\n",
        "            for neighbor, edge_cost in self.graph.get_neighbors(city):\n",
        "                new_cost = cost + edge_cost\n",
        "                new_path = path + [neighbor]\n",
        "                new_visited_goals = visited_goals.copy()\n",
        "\n",
        "                # Mark goal states as visited\n",
        "                if neighbor in goals:\n",
        "                    new_visited_goals.add(neighbor)\n",
        "\n",
        "                heapq.heappush(priority_queue, (new_cost, neighbor, new_path, new_visited_goals))\n",
        "\n",
        "        return best_cost, best_solution\n"
      ],
      "metadata": {
        "id": "mnbPEbA08pYc"
      },
      "execution_count": null,
      "outputs": []
    },
    {
      "cell_type": "code",
      "source": [
        "# Define goal states\n",
        "goal_states = {\"Axum\", \"Gondar\", \"Lalibela\", \"Babile\", \"Jimma\", \"Bale\", \"Sof Oumer\", \"Arba Minch\"}\n",
        "\n",
        "# Create UCS instance and run search\n",
        "multi_ucs_solver = MultiGoalUCS(ethiopia_map)\n",
        "cost, path = multi_ucs_solver.search(\"Addis Ababa\", goal_states)\n",
        "\n",
        "# Print results\n",
        "print(f\"🛣️ Optimal Path Visiting All Goal States: {' -> '.join(path)}\")\n",
        "print(f\"🔢 Total Cost: {cost}\")\n"
      ],
      "metadata": {
        "colab": {
          "base_uri": "https://localhost:8080/",
          "height": 211
        },
        "id": "eAABJMDsLGkf",
        "outputId": "135065f2-f335-4a4d-cd25-492c4964d306"
      },
      "execution_count": null,
      "outputs": [
        {
          "output_type": "error",
          "ename": "NameError",
          "evalue": "name 'ethiopia_map' is not defined",
          "traceback": [
            "\u001b[0;31m---------------------------------------------------------------------------\u001b[0m",
            "\u001b[0;31mNameError\u001b[0m                                 Traceback (most recent call last)",
            "\u001b[0;32m<ipython-input-3-19c287e60c5d>\u001b[0m in \u001b[0;36m<cell line: 0>\u001b[0;34m()\u001b[0m\n\u001b[1;32m      3\u001b[0m \u001b[0;34m\u001b[0m\u001b[0m\n\u001b[1;32m      4\u001b[0m \u001b[0;31m# Create UCS instance and run search\u001b[0m\u001b[0;34m\u001b[0m\u001b[0;34m\u001b[0m\u001b[0m\n\u001b[0;32m----> 5\u001b[0;31m \u001b[0mmulti_ucs_solver\u001b[0m \u001b[0;34m=\u001b[0m \u001b[0mMultiGoalUCS\u001b[0m\u001b[0;34m(\u001b[0m\u001b[0methiopia_map\u001b[0m\u001b[0;34m)\u001b[0m\u001b[0;34m\u001b[0m\u001b[0;34m\u001b[0m\u001b[0m\n\u001b[0m\u001b[1;32m      6\u001b[0m \u001b[0mcost\u001b[0m\u001b[0;34m,\u001b[0m \u001b[0mpath\u001b[0m \u001b[0;34m=\u001b[0m \u001b[0mmulti_ucs_solver\u001b[0m\u001b[0;34m.\u001b[0m\u001b[0msearch\u001b[0m\u001b[0;34m(\u001b[0m\u001b[0;34m\"Addis Ababa\"\u001b[0m\u001b[0;34m,\u001b[0m \u001b[0mgoal_states\u001b[0m\u001b[0;34m)\u001b[0m\u001b[0;34m\u001b[0m\u001b[0;34m\u001b[0m\u001b[0m\n\u001b[1;32m      7\u001b[0m \u001b[0;34m\u001b[0m\u001b[0m\n",
            "\u001b[0;31mNameError\u001b[0m: name 'ethiopia_map' is not defined"
          ]
        }
      ]
    },
    {
      "cell_type": "markdown",
      "source": [
        "Different solution"
      ],
      "metadata": {
        "id": "4O_9oBv_PLZx"
      }
    },
    {
      "cell_type": "code",
      "execution_count": null,
      "metadata": {
        "id": "aI1lS9_02gmA"
      },
      "outputs": [],
      "source": [
        "graph = {\n",
        "    \"Addis Ababa\": [(\"Debre Birhan\", 6), (\"Ambo\", 8), (\"Adama\", 4)],\n",
        "    \"Debre Birhan\": [(\"Addis Ababa\", 6), (\"Dessie\", 11), (\"Debre Sina\", 5)],\n",
        "    \"Dessie\": [(\"Debre Birhan\", 11), (\"Lalibela\", 17), (\"Woldia\", 8)],\n",
        "    \"Lalibela\": [(\"Dessie\", 17), (\"Gondar\", 15), (\"Sekota\", 10)],\n",
        "    \"Gondar\": [(\"Lalibela\", 15), (\"Bahir Dar\", 7), (\"Debark\", 5)],\n",
        "    \"Bahir Dar\": [(\"Gondar\", 7), (\"Finote Selam\", 11), (\"Injibara\", 6)],\n",
        "    \"Adama\": [(\"Addis Ababa\", 4), (\"Asella\", 7), (\"Batu\", 6)],\n",
        "    \"Asella\": [(\"Adama\", 7), (\"Dodola\", 9)],\n",
        "    \"Dodola\": [(\"Asella\", 9), (\"Bale\", 13)],\n",
        "    \"Bale\": [(\"Dodola\", 13), (\"Goba\", 5)],\n",
        "    \"Goba\": [(\"Bale\", 5), (\"Sol Oumer\", 18)],\n",
        "    \"Sol Oumer\": [(\"Goba\", 18), (\"Liben\", 23)],\n",
        "    \"Liben\": [(\"Sol Oumer\", 23), (\"Moyale\", 11)],\n",
        "    \"Moyale\": [(\"Liben\", 11), (\"Kairo\", 22)],\n",
        "    \"Sekota\": [(\"Lalibela\", 10), (\"Alamata\", 8)],\n",
        "    \"Alamata\": [(\"Sekota\", 8), (\"Woldia\", 6)],\n",
        "    \"Woldia\": [(\"Dessie\", 8), (\"Alamata\", 6), (\"Kemise\", 7)],\n",
        "    \"Kemise\": [(\"Woldia\", 7), (\"Debre Sina\", 9)],\n",
        "    \"Debre Sina\": [(\"Kemise\", 9), (\"Debre Birhan\", 5)],\n",
        "    \"Finote Selam\": [(\"Bahir Dar\", 11), (\"Injibara\", 7)],\n",
        "    \"Injibara\": [(\"Finote Selam\", 7), (\"Bahir Dar\", 6)],\n",
        "    \"Debark\": [(\"Gondar\", 5), (\"Shire\", 8)],\n",
        "    \"Shire\": [(\"Debark\", 8), (\"Axum\", 7)],\n",
        "    \"Axum\": [(\"Shire\", 7), (\"Adigrat\", 6)],\n",
        "    \"Adigrat\": [(\"Axum\", 6), (\"Adwa\", 5)],\n",
        "    \"Adwa\": [(\"Adigrat\", 5), (\"Mekelle\", 11)],\n",
        "    \"Mekelle\": [(\"Adwa\", 11), (\"Kilbet Rasu\", 6)],\n",
        "    \"Kilbet Rasu\": [(\"Mekelle\", 6), (\"Fanti Rasu\", 4)],\n",
        "    \"Fanti Rasu\": [(\"Kilbet Rasu\", 4), (\"Amhara\", 8)],\n",
        "    \"Amhara\": [(\"Fanti Rasu\", 8), (\"Gabi Rasu\", 7)],\n",
        "    \"Gabi Rasu\": [(\"Amhara\", 7), (\"Dire Dawa\", 6)],\n",
        "    \"Dire Dawa\": [(\"Gabi Rasu\", 6), (\"Harar\", 4)],\n",
        "    \"Harar\": [(\"Dire Dawa\", 4), (\"Babile\", 3)],\n",
        "    \"Babile\": [(\"Harar\", 3), (\"Jijiga\", 5)],\n",
        "    \"Jijiga\": [(\"Babile\", 5), (\"Dega Habur\", 6)],\n",
        "    \"Dega Habur\": [(\"Jijiga\", 6), (\"Kebri Dehar\", 6)],\n",
        "    \"Kebri Dehar\": [(\"Dega Habur\", 6), (\"Werder\", 5)],\n",
        "    \"Werder\": [(\"Kebri Dehar\", 5), (\"Gode\", 6)],\n",
        "    \"Gode\": [(\"Werder\", 6), (\"Dollo\", 5)],\n",
        "    \"Dollo\": [(\"Gode\", 5), (\"Mokadisho\", 22)],\n",
        "    \"Mokadisho\": [(\"Dollo\", 22)],\n",
        "    \"Juba\": [(\"Gambela\", 22)],\n",
        "    \"Gambela\": [(\"Juba\", 22), (\"Assosa\", 12)],\n",
        "    \"Assosa\": [(\"Gambela\", 12), (\"Metekel\", 7)],\n",
        "    \"Metekel\": [(\"Assosa\", 7), (\"Azezo\", 8)],\n",
        "    \"Azezo\": [(\"Metekel\", 8), (\"Bahir Dar\", 11)],\n",
        "    \"Bench Maji\": [(\"Basketo\", 10)],\n",
        "    \"Basketo\": [(\"Bench Maji\", 10), (\"Konso\", 6)],\n",
        "    \"Konso\": [(\"Basketo\", 6), (\"Bule Hora\", 3)],\n",
        "    \"Bule Hora\": [(\"Konso\", 3), (\"Dilla\", 4)],\n",
        "    \"Dilla\": [(\"Bule Hora\", 4), (\"Hawassa\", 6)],\n",
        "    \"Hawassa\": [(\"Dilla\", 6), (\"Shashamene\", 4)],\n",
        "    \"Shashamene\": [(\"Hawassa\", 4), (\"Batu\", 3)],\n",
        "    \"Batu\": [(\"Shashamene\", 3), (\"Adama\", 6)],\n",
        "}\n"
      ]
    },
    {
      "cell_type": "code",
      "source": [
        "import heapq\n",
        "\n",
        "def uniform_cost_search(graph, start, goal):\n",
        "    # Priority queue (min-heap) to store (cost, node, path)\n",
        "    priority_queue = [(0, start, [start])]\n",
        "    visited = set()\n",
        "\n",
        "    while priority_queue:\n",
        "        cost, node, path = heapq.heappop(priority_queue)\n",
        "\n",
        "        # If we reach the goal, return the cost and path\n",
        "        if node == goal:\n",
        "            return cost, path\n",
        "\n",
        "        # If node is already visited, skip it\n",
        "        if node in visited:\n",
        "            continue\n",
        "\n",
        "        visited.add(node)\n",
        "\n",
        "        # Expand neighbors\n",
        "        for neighbor, edge_cost in graph.get(node, []):\n",
        "            if neighbor not in visited:\n",
        "                heapq.heappush(priority_queue, (cost + edge_cost, neighbor, path + [neighbor]))\n",
        "\n",
        "    return float(\"inf\"), []  # No path found\n",
        "\n",
        "# Run UCS to find the shortest path from Addis Ababa to Lalibela\n",
        "cost, path = uniform_cost_search(graph, \"Addis Ababa\", \"Lalibela\")\n",
        "\n",
        "# Print the result\n",
        "print(f\"🛣️ Shortest Path: {' -> '.join(path)}\")\n",
        "print(f\"🔢 Total Cost: {cost}\")\n"
      ],
      "metadata": {
        "colab": {
          "base_uri": "https://localhost:8080/"
        },
        "id": "34cA6gLm2xwr",
        "outputId": "d001d46a-27f0-41d5-8334-5a6f0d20b8e5"
      },
      "execution_count": null,
      "outputs": [
        {
          "output_type": "stream",
          "name": "stdout",
          "text": [
            "🛣️ Shortest Path: Addis Ababa -> Debre Birhan -> Dessie -> Lalibela\n",
            "🔢 Total Cost: 34\n"
          ]
        }
      ]
    },
    {
      "cell_type": "code",
      "source": [
        "def uniform_cost_search(graph, start, goals):\n",
        "    \"\"\"\n",
        "    Customized UCS to visit all goal states while preserving local optima.\n",
        "    \"\"\"\n",
        "    priority_queue = [(0, start, [start], set())]  # (cost, current_node, path, visited_goals)\n",
        "    best_solution = None\n",
        "    best_cost = float(\"inf\")\n",
        "\n",
        "    while priority_queue:\n",
        "        cost, node, path, visited_goals = heapq.heappop(priority_queue)\n",
        "\n",
        "        # If we visited all goal states, update best solution\n",
        "        if visited_goals == set(goals):\n",
        "            if cost < best_cost:\n",
        "                best_cost = cost\n",
        "                best_solution = path\n",
        "            continue\n",
        "\n",
        "        # Expand neighbors\n",
        "        for neighbor, edge_cost in graph.get(node, []):\n",
        "            new_cost = cost + edge_cost\n",
        "            new_path = path + [neighbor]\n",
        "            new_visited_goals = visited_goals.copy()\n",
        "\n",
        "            # Mark goal states as visited\n",
        "            if neighbor in goals:\n",
        "                new_visited_goals.add(neighbor)\n",
        "\n",
        "            heapq.heappush(priority_queue, (new_cost, neighbor, new_path, new_visited_goals))\n",
        "\n",
        "    return best_cost, best_solution\n",
        "\n",
        "# Goal states\n",
        "goal_states = {\"Axum\", \"Gondar\", \"Lalibela\", \"Babile\", \"Jimma\", \"Bale\", \"Sof Oumer\", \"Arba Minch\"}\n",
        "\n",
        "# Run the customized UCS\n",
        "cost, path = uniform_cost_search(graph, \"Addis Ababa\", goal_states)\n",
        "\n",
        "# Print results\n",
        "print(f\"🛣️ Optimal Path Visiting All Goal States: {' -> '.join(path)}\")\n",
        "print(f\"🔢 Total Cost: {cost}\")\n"
      ],
      "metadata": {
        "colab": {
          "base_uri": "https://localhost:8080/",
          "height": 211
        },
        "id": "nko1Ti9E3n0y",
        "outputId": "de315380-2390-47d0-ed94-9b4d5b68c92e"
      },
      "execution_count": null,
      "outputs": [
        {
          "output_type": "error",
          "ename": "NameError",
          "evalue": "name 'graph' is not defined",
          "traceback": [
            "\u001b[0;31m---------------------------------------------------------------------------\u001b[0m",
            "\u001b[0;31mNameError\u001b[0m                                 Traceback (most recent call last)",
            "\u001b[0;32m<ipython-input-1-b70680c7df3c>\u001b[0m in \u001b[0;36m<cell line: 0>\u001b[0;34m()\u001b[0m\n\u001b[1;32m     37\u001b[0m \u001b[0;34m\u001b[0m\u001b[0m\n\u001b[1;32m     38\u001b[0m \u001b[0;31m# Run the customized UCS\u001b[0m\u001b[0;34m\u001b[0m\u001b[0;34m\u001b[0m\u001b[0m\n\u001b[0;32m---> 39\u001b[0;31m \u001b[0mcost\u001b[0m\u001b[0;34m,\u001b[0m \u001b[0mpath\u001b[0m \u001b[0;34m=\u001b[0m \u001b[0muniform_cost_search\u001b[0m\u001b[0;34m(\u001b[0m\u001b[0mgraph\u001b[0m\u001b[0;34m,\u001b[0m \u001b[0;34m\"Addis Ababa\"\u001b[0m\u001b[0;34m,\u001b[0m \u001b[0mgoal_states\u001b[0m\u001b[0;34m)\u001b[0m\u001b[0;34m\u001b[0m\u001b[0;34m\u001b[0m\u001b[0m\n\u001b[0m\u001b[1;32m     40\u001b[0m \u001b[0;34m\u001b[0m\u001b[0m\n\u001b[1;32m     41\u001b[0m \u001b[0;31m# Print results\u001b[0m\u001b[0;34m\u001b[0m\u001b[0;34m\u001b[0m\u001b[0m\n",
            "\u001b[0;31mNameError\u001b[0m: name 'graph' is not defined"
          ]
        }
      ]
    }
  ]
}