{
  "nbformat": 4,
  "nbformat_minor": 0,
  "metadata": {
    "colab": {
      "provenance": [],
      "authorship_tag": "ABX9TyOjzZGIpJpP4qox5hvDQ2mc",
      "include_colab_link": true
    },
    "kernelspec": {
      "name": "python3",
      "display_name": "Python 3"
    },
    "language_info": {
      "name": "python"
    }
  },
  "cells": [
    {
      "cell_type": "markdown",
      "metadata": {
        "id": "view-in-github",
        "colab_type": "text"
      },
      "source": [
        "<a href=\"https://colab.research.google.com/github/lhiwi/AI-Principles_-advanced-searching/blob/main/UCS_fig2.ipynb\" target=\"_parent\"><img src=\"https://colab.research.google.com/assets/colab-badge.svg\" alt=\"Open In Colab\"/></a>"
      ]
    },
    {
      "cell_type": "markdown",
      "source": [
        "# **Uniform cost search**"
      ],
      "metadata": {
        "id": "KDlWnBTWBgwv"
      }
    },
    {
      "cell_type": "markdown",
      "source": [
        "# *A state space graph with backward cost for the traveling Ethiopia search problem*\n"
      ],
      "metadata": {
        "id": "Tpg8Z3POP3WB"
      }
    },
    {
      "cell_type": "code",
      "source": [
        "import heapq\n",
        "\n",
        "class EthiopiaGraph:\n",
        "    def __init__(self):\n",
        "        self.graph = {}\n",
        "\n",
        "    def add_connection(self, city1, city2, cost):\n",
        "        # A bi-directional road (edge) between cities with a given cost.\n",
        "        if city1 not in self.graph:\n",
        "            self.graph[city1] = []\n",
        "        if city2 not in self.graph:\n",
        "            self.graph[city2] = []\n",
        "        self.graph[city1].append((city2, cost))\n",
        "        self.graph[city2].append((city1, cost))\n",
        "\n",
        "    def get_neighbors(self, city):\n",
        "        return self.graph.get(city, [])\n"
      ],
      "metadata": {
        "id": "ALKOR3LqJOQY"
      },
      "execution_count": 14,
      "outputs": []
    },
    {
      "cell_type": "code",
      "source": [
        "ethiopia_map = EthiopiaGraph()\n",
        "\n",
        "# connections\n",
        "ethiopia_map.add_connection(\"Addis Ababa\", \"Debre Birhan\", 3)\n",
        "ethiopia_map.add_connection(\"Addis Ababa\", \"Ambo\", 8)\n",
        "ethiopia_map.add_connection(\"Addis Ababa\", \"Adama\", 4)\n",
        "ethiopia_map.add_connection(\"Addis Ababa\", \"Jimma\", 9)\n",
        "\n",
        "ethiopia_map.add_connection(\"Debre Birhan\", \"Dessie\", 11)\n",
        "ethiopia_map.add_connection(\"Debre Birhan\", \"Debre Sina\", 5)\n",
        "ethiopia_map.add_connection(\"Dessie\", \"Lalibela\", 17)\n",
        "ethiopia_map.add_connection(\"Dessie\", \"Woldia\", 8)\n",
        "ethiopia_map.add_connection(\"Lalibela\", \"Gondar\", 15)\n",
        "ethiopia_map.add_connection(\"Lalibela\", \"Sekota\", 10)\n",
        "\n",
        "ethiopia_map.add_connection(\"Axum\", \"Gondar\", 20)\n",
        "ethiopia_map.add_connection(\"Axum\", \"Shire\", 8)\n",
        "ethiopia_map.add_connection(\"Gondar\", \"Bahir Dar\", 10)\n",
        "\n",
        "ethiopia_map.add_connection(\"Adama\", \"Asella\", 7)\n",
        "ethiopia_map.add_connection(\"Adama\", \"Batu\", 6)\n",
        "ethiopia_map.add_connection(\"Asella\", \"Dodola\", 9)\n",
        "ethiopia_map.add_connection(\"Dodola\", \"Bale\", 13)\n",
        "ethiopia_map.add_connection(\"Bale\", \"Goba\", 5)\n",
        "ethiopia_map.add_connection(\"Goba\", \"Sof Oumer\", 18)\n",
        "\n",
        "ethiopia_map.add_connection(\"Babile\", \"Harar\", 3)\n",
        "ethiopia_map.add_connection(\"Babile\", \"Jijiga\", 5)\n",
        "\n",
        "ethiopia_map.add_connection(\"Jimma\", \"Bonga\", 7)\n",
        "ethiopia_map.add_connection(\"Bonga\", \"Mizan Teferi\", 6)\n",
        "\n",
        "ethiopia_map.add_connection(\"Arba Minch\", \"Wolaita Sodo\", 10)\n",
        "ethiopia_map.add_connection(\"Wolaita Sodo\", \"Hossana\", 8)\n"
      ],
      "metadata": {
        "id": "Dzi4PKVrHX6g"
      },
      "execution_count": 10,
      "outputs": []
    },
    {
      "cell_type": "code",
      "source": [
        "ethiopia_cities = dict( {'Addis Ababa': {'Adama':3, 'Ambo':5, 'Debre Berhan':5},\n",
        "             'Adama': {'Matahara':3, 'Asella':4, 'Batu':4, 'Addis Ababa':3},\n",
        "             'Ambo': {'Wolkite':6, 'Addis Ababa':9, 'Nekemte':5},\n",
        "             'Debre Berhan': {'Addis Ababa':5, 'Debre Sina':2},\n",
        "             'Matahara': {'Adama':3, 'Awash':1},\n",
        "             'Asella': {'Adama':4, 'Assasa':4},\n",
        "             'Batu': {'Adama':4, 'Buta Jirra':2, 'Shashamene':3},\n",
        "             'Wolkite': {'Ambo':6, 'Worabe':5, 'Jimma':8},\n",
        "             'Nekemte': {'Ambo':9, 'Bedelle':5, 'Gimbi':4},\n",
        "             'Debre Sina': {'Debre Berhan':2, 'Kemise':6, 'Debre Markos':17},\n",
        "             'Awash': {'Chiro':4, 'Gobi Rasu':5, 'Matahara':1},\n",
        "             'Assasa': {'Asella':4, 'Dodolla':1},\n",
        "             'Buta Jirra': {'Batu':2, 'Worabe':2},\n",
        "             'Shashamene': {'Batu':3, 'Hawassa':1, 'Dodolla':3, 'Hossana':7},\n",
        "             'Worabe': {'Wolkite':5, 'Hossana':2, 'Buta Jirra':2},\n",
        "             'Jimma': {'Wolkite':8, 'Bonga':4, 'Bedelle':7},\n",
        "            'Bedelle': {'Nekemte':5, 'Gore':6, 'Jimma':7},\n",
        "             'Gimbi': {'Nekemte':4, 'Dambidollo':6},\n",
        "             'Kemise': {'Debre Sina':6, 'Dessie':4},\n",
        "             'Debre Markos': {'Debre Sina':17, 'Finote Selam':3},\n",
        "             'Chiro': {'Awash':4, 'Dire Dawa':8},\n",
        "             'Gobi Rasu': {'Awash':5, 'Samara':9},\n",
        "             'Dodolla': {'Assasa':1, 'Shashamene':3, 'Bale':13},\n",
        "             'Hawassa': {'Shashamene':1, 'Dilla':3},\n",
        "             'Hossana': {'Shashamene':7, 'Worabe':2, 'Wolaita Sodo':4},\n",
        "             'Bonga': {'Jimma':4, 'Dawro':10, 'Tepi':8, 'Mizan Teferi':4},\n",
        "             'Gore': {'Tepi':9, 'Gambella':5, 'Bedelle':6},\n",
        "             'Dambidollo': {'Gimbi':6, 'Assosa':12, 'Gambella':4},\n",
        "            'Dessie': {'Kemise':4, 'Woldia':6},\n",
        "            'Finote Selam': {'Debre Markos':3, 'Bahirdar':6, 'Injibara':2},\n",
        "             'Dire Dawa': { 'Chiro':8, 'Harar':4},\n",
        "             'Samara': { 'Gobi Rasu':9, 'Fanti Rasu':7, 'Alamata':11, 'Woldia':8},\n",
        "            'Bale': {'Liben':11, 'Dodolla':13, 'Goba':18, 'Sof Oumer':23},\n",
        "             'Dilla': {'Hawassa':3, 'Bulehora':4},\n",
        "             'Wolaita Sodo': {'Arba Minchi':5, 'Dawro':6, 'Hossana':4},\n",
        "             'Dawro': { 'Bonga':10, 'Wolaita Sodo':10},\n",
        "             'Tepi': {'Gore':9, 'Bonga':8, 'Mizan Teferi':4},\n",
        "            'Mizan Teferi': {'Tepi':4, 'Bonga':4},\n",
        "             'Gambella': {'Gore':5, 'Dambidollo':4},\n",
        "             'Assosa': {'Dambidollo':12},\n",
        "            'Woldia': {'Dessie':6, 'Lalibella':7, 'Samara':8, 'Alamata':3},\n",
        "             'Bahirdar': {'Finote Selam':6, 'Injibara':4, 'Metekel':11, 'Azezo':7, 'Debre Tabor':4},\n",
        "             'Injibara': {'Bahirdar':4, 'Finote Selam':2},\n",
        "             'Harar': { 'Dire Dawa':4, 'Babile':2},\n",
        "             'Fanti Rasu': {'Samara':7, 'Kilbet Rasu':6},\n",
        "             'Alamata': {'Samara':11, 'Woldia':3, 'Mekelle':5, 'Sekota':6},\n",
        "             'Liben': {'Bale':11},\n",
        "             'Goba': {'Bale':18, 'Sof Oumer':6, 'Babile':28},\n",
        "             'Sof Oumer': {'Goba':6, 'Bale':23, 'Gode':23},\n",
        "            'Bulehora': { 'Dilla':4, 'Yabello':3},\n",
        "            'Arba Minchi': {'Wolaita Sodo':5, 'Konso':4, 'Basketo':10},\n",
        "             'Basketo': { 'Arba Minchi':10, 'Benchi Maji':5},\n",
        "             'Metekel': { 'Bahirdar':11},\n",
        "             'Lalibella': {'Woldia':7, 'Debre Tabor':8, 'Sekota':6},\n",
        "             'Debre Tabor': {'Lalibella':8, 'Bahirdar':4},\n",
        "             'Azezo': {'Gondar':1, 'Bahirdar':7, 'Metema':7},\n",
        "             'Babile': { 'Harar':2, 'Jigjiga':3,'Goba':28},\n",
        "             'Kilbet Rasu': {'Fanti Rasu':6},\n",
        "             'Mekelle': {'Alamata':5, 'Adwa':7, 'Adigrat':4, 'Sekota':9},\n",
        "             'Sekota': {'Alamata':6, 'Mekelle':9, 'Lalibella':6},\n",
        "            'Dega Habur': {'Jigjiga':5, 'Kebri Dehar':6},\n",
        "            'Kebri Dehar': {'Gode':5, 'Dega Habur':6, 'Werdez':6},\n",
        "            'Yabello': { 'Bulehora':3, 'Konso':3, 'Moyale':6},\n",
        "            'Konso': {'Arba Minchi':4, 'Yabello':3},\n",
        "            'Benchi Maji': { 'Basketo':5},\n",
        "            'Gondar': { 'Azezo':1, 'Humera':9, 'Metema':7, 'Debarke':4},\n",
        "            'Metema': { 'Azezo':7, 'Gondar':7},\n",
        "            'Jigjiga': { 'Babile':3, 'Dega Habur':5},\n",
        "            'Adwa': { 'Mekelle':7, 'Axum':1, 'Adigrat':4},\n",
        "            'Adigrat': { 'Mekelle':4, 'Adwa':4},\n",
        "            'Gode': { 'Dollo':17, 'Kebri Dehar':5, 'Sof Oumer':23 },\n",
        "            'Werdez': { 'Kebri Dehar':6},\n",
        "            'Moyale': { 'Yabello':6},\n",
        "            'Debarke': { 'Gondar':4, 'Shire':7},\n",
        "            'Axum': {'Shire':2, 'Adwa':1},\n",
        "            'Dollo': { 'Gode':17},\n",
        "            'Shire': { 'Axum':2, 'Humera':8, 'Debarke':7},\n",
        "            'Humera': { 'Shire':8, 'Gondar':9}})"
      ],
      "metadata": {
        "id": "HXQscm2tP7jm"
      },
      "execution_count": null,
      "outputs": []
    },
    {
      "cell_type": "markdown",
      "source": [
        "# **Uniform cost search algorithm implemented**"
      ],
      "metadata": {
        "id": "Yf984G5dBruf"
      }
    },
    {
      "cell_type": "code",
      "source": [
        "class UniformCostSearch:\n",
        "    def __init__(self, graph):\n",
        "        self.graph = graph\n",
        "\n",
        "    def find_path(self, start, goal): #UCS from initial to goal state, returning the optimal path and cost.\n",
        "\n",
        "        priority_queue = [(0, start, [start])]\n",
        "        visited = set()\n",
        "\n",
        "        while priority_queue:\n",
        "            cost, city, path = heapq.heappop(priority_queue)\n",
        "\n",
        "            if city in visited:\n",
        "                continue\n",
        "            visited.add(city)\n",
        "\n",
        "            # Goal Reached\n",
        "            if city == goal:\n",
        "                return cost, path\n",
        "\n",
        "            # Expanding Neighbors\n",
        "            for neighbor, edge_cost in self.graph.get_neighbors(city):\n",
        "                if neighbor not in visited:\n",
        "                    heapq.heappush(priority_queue, (cost + edge_cost, neighbor, path + [neighbor]))\n",
        "\n",
        "        return float(\"inf\"), []  # No path found\n"
      ],
      "metadata": {
        "id": "z3gypu1A8g4E"
      },
      "execution_count": 13,
      "outputs": []
    },
    {
      "cell_type": "code",
      "source": [
        "# Find shortest path\n",
        "ucs_solver = UniformCostSearch(ethiopia_map)\n",
        "cost, path = ucs_solver.find_path(\"Addis Ababa\", \"Lalibela\")\n",
        "\n",
        "# Print results\n",
        "print(f\"🛣️ Shortest Path to Lalibela: {' -> '.join(path)}\")\n",
        "print(f\"🔢 Total Cost: {cost}\")\n"
      ],
      "metadata": {
        "colab": {
          "base_uri": "https://localhost:8080/"
        },
        "id": "e1e-lFYAKpeM",
        "outputId": "08303b0c-ded6-4388-958b-24403ec125f1"
      },
      "execution_count": 12,
      "outputs": [
        {
          "output_type": "stream",
          "name": "stdout",
          "text": [
            "🛣️ Shortest Path to Lalibela: Addis Ababa -> Debre Birhan -> Dessie -> Lalibela\n",
            "🔢 Total Cost: 34\n"
          ]
        }
      ]
    },
    {
      "cell_type": "code",
      "source": [
        "class MultiGoalUCS:\n",
        "    def __init__(self, graph):\n",
        "        \"\"\"Initialize UCS for multiple goals.\"\"\"\n",
        "        self.graph = graph\n",
        "\n",
        "    def search(self, start, goals):\n",
        "        \"\"\"\n",
        "        Perform UCS to visit all goal states while minimizing cost.\n",
        "        \"\"\"\n",
        "        priority_queue = [(0, start, [start], set())]  # (cost, current_city, path, visited_goals)\n",
        "        best_solution = None\n",
        "        best_cost = float(\"inf\")\n",
        "\n",
        "        while priority_queue:\n",
        "            cost, city, path, visited_goals = heapq.heappop(priority_queue)\n",
        "\n",
        "            # If all goal states are visited, update the best solution\n",
        "            if visited_goals == set(goals):\n",
        "                if cost < best_cost:\n",
        "                    best_cost = cost\n",
        "                    best_solution = path\n",
        "                continue\n",
        "\n",
        "            # Expand neighbors\n",
        "            for neighbor, edge_cost in self.graph.get_neighbors(city):\n",
        "                new_cost = cost + edge_cost\n",
        "                new_path = path + [neighbor]\n",
        "                new_visited_goals = visited_goals.copy()\n",
        "\n",
        "                # Mark goal states as visited\n",
        "                if neighbor in goals:\n",
        "                    new_visited_goals.add(neighbor)\n",
        "\n",
        "                heapq.heappush(priority_queue, (new_cost, neighbor, new_path, new_visited_goals))\n",
        "\n",
        "        return best_cost, best_solution\n"
      ],
      "metadata": {
        "id": "k8EM-MBRTD1s"
      },
      "execution_count": 15,
      "outputs": []
    },
    {
      "cell_type": "code",
      "source": [
        "# Initialize UCS and find path\n",
        "ucs_solver = UniformCostSearch(ethiopia_map)\n",
        "cost, path = ucs_solver.find_path(\"Addis Ababa\", \"Lalibela\")\n",
        "\n",
        "# Print results\n",
        "print(f\"🛣️ Shortest Path to Lalibela: {' -> '.join(path)}\")\n",
        "print(f\"🔢 Total Cost: {cost}\")\n"
      ],
      "metadata": {
        "colab": {
          "base_uri": "https://localhost:8080/"
        },
        "id": "222-V2zhTF0Q",
        "outputId": "a1bf6844-59c8-484c-e240-83236459c304"
      },
      "execution_count": 16,
      "outputs": [
        {
          "output_type": "stream",
          "name": "stdout",
          "text": [
            "🛣️ Shortest Path to Lalibela: Addis Ababa -> Debre Birhan -> Dessie -> Lalibela\n",
            "🔢 Total Cost: 34\n"
          ]
        }
      ]
    }
  ]
}