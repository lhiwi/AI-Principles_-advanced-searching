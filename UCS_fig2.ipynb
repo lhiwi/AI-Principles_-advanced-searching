{
  "nbformat": 4,
  "nbformat_minor": 0,
  "metadata": {
    "colab": {
      "provenance": [],
      "authorship_tag": "ABX9TyNPBv1pH6N8+eYr/3Er25Yu",
      "include_colab_link": true
    },
    "kernelspec": {
      "name": "python3",
      "display_name": "Python 3"
    },
    "language_info": {
      "name": "python"
    }
  },
  "cells": [
    {
      "cell_type": "markdown",
      "metadata": {
        "id": "view-in-github",
        "colab_type": "text"
      },
      "source": [
        "<a href=\"https://colab.research.google.com/github/lhiwi/AI-Principles_-advanced-searching/blob/main/UCS_fig2.ipynb\" target=\"_parent\"><img src=\"https://colab.research.google.com/assets/colab-badge.svg\" alt=\"Open In Colab\"/></a>"
      ]
    },
    {
      "cell_type": "markdown",
      "source": [
        "# **Uniform cost search**"
      ],
      "metadata": {
        "id": "KDlWnBTWBgwv"
      }
    },
    {
      "cell_type": "markdown",
      "source": [
        "# *A state space graph with backward cost for the traveling Ethiopia search problem*\n"
      ],
      "metadata": {
        "id": "Tpg8Z3POP3WB"
      }
    },
    {
      "cell_type": "code",
      "source": [
        "import heapq\n",
        "\n",
        "class EthiopiaGraph:\n",
        "    def __init__(self):\n",
        "        self.graph = {}\n",
        "\n",
        "    def add_connection(self, city1, city2, cost):\n",
        "        # Add a bi-directional road (edge) between cities with a given cost.\n",
        "        if city1 not in self.graph:\n",
        "            self.graph[city1] = []\n",
        "        if city2 not in self.graph:\n",
        "            self.graph[city2] = []\n",
        "        self.graph[city1].append((city2, cost))\n",
        "        self.graph[city2].append((city1, cost))\n",
        "\n",
        "    def get_neighbors(self, city):\n",
        "        \"\"\"Retrieve neighboring cities and their associated travel costs.\"\"\"\n",
        "        return self.graph.get(city, [])\n"
      ],
      "metadata": {
        "id": "ALKOR3LqJOQY"
      },
      "execution_count": 9,
      "outputs": []
    },
    {
      "cell_type": "code",
      "source": [
        "ethiopia_map = EthiopiaGraph()\n",
        "\n",
        "# connections\n",
        "ethiopia_map.add_connection(\"Addis Ababa\", \"Debre Birhan\", 6)\n",
        "ethiopia_map.add_connection(\"Addis Ababa\", \"Ambo\", 8)\n",
        "ethiopia_map.add_connection(\"Addis Ababa\", \"Adama\", 4)\n",
        "ethiopia_map.add_connection(\"Addis Ababa\", \"Jimma\", 9)\n",
        "\n",
        "ethiopia_map.add_connection(\"Debre Birhan\", \"Dessie\", 11)\n",
        "ethiopia_map.add_connection(\"Debre Birhan\", \"Debre Sina\", 5)\n",
        "ethiopia_map.add_connection(\"Dessie\", \"Lalibela\", 17)\n",
        "ethiopia_map.add_connection(\"Dessie\", \"Woldia\", 8)\n",
        "ethiopia_map.add_connection(\"Lalibela\", \"Gondar\", 15)\n",
        "ethiopia_map.add_connection(\"Lalibela\", \"Sekota\", 10)\n",
        "\n",
        "ethiopia_map.add_connection(\"Axum\", \"Gondar\", 20)\n",
        "ethiopia_map.add_connection(\"Axum\", \"Shire\", 8)\n",
        "ethiopia_map.add_connection(\"Gondar\", \"Bahir Dar\", 10)\n",
        "\n",
        "ethiopia_map.add_connection(\"Adama\", \"Asella\", 7)\n",
        "ethiopia_map.add_connection(\"Adama\", \"Batu\", 6)\n",
        "ethiopia_map.add_connection(\"Asella\", \"Dodola\", 9)\n",
        "ethiopia_map.add_connection(\"Dodola\", \"Bale\", 13)\n",
        "ethiopia_map.add_connection(\"Bale\", \"Goba\", 5)\n",
        "ethiopia_map.add_connection(\"Goba\", \"Sof Oumer\", 18)\n",
        "\n",
        "ethiopia_map.add_connection(\"Babile\", \"Harar\", 3)\n",
        "ethiopia_map.add_connection(\"Babile\", \"Jijiga\", 5)\n",
        "\n",
        "ethiopia_map.add_connection(\"Jimma\", \"Bonga\", 7)\n",
        "ethiopia_map.add_connection(\"Bonga\", \"Mizan Teferi\", 6)\n",
        "\n",
        "ethiopia_map.add_connection(\"Arba Minch\", \"Wolaita Sodo\", 10)\n",
        "ethiopia_map.add_connection(\"Wolaita Sodo\", \"Hossana\", 8)\n"
      ],
      "metadata": {
        "id": "Dzi4PKVrHX6g"
      },
      "execution_count": 10,
      "outputs": []
    },
    {
      "cell_type": "markdown",
      "source": [
        "# **Uniform cost search algorithm implemented**"
      ],
      "metadata": {
        "id": "Yf984G5dBruf"
      }
    },
    {
      "cell_type": "code",
      "source": [
        "class UniformCostSearch:\n",
        "    def __init__(self, graph):\n",
        "        self.graph = graph\n",
        "\n",
        "    def find_path(self, start, goal): #UCS from initial to goal state, returning the optimal path and cost.\n",
        "\n",
        "        priority_queue = [(0, start, [start])]  # (cost, city, path)\n",
        "        visited = set()\n",
        "\n",
        "        while priority_queue:\n",
        "            cost, city, path = heapq.heappop(priority_queue)\n",
        "\n",
        "            if city in visited:\n",
        "                continue\n",
        "            visited.add(city)\n",
        "\n",
        "            # Goal Reached\n",
        "            if city == goal:\n",
        "                return cost, path\n",
        "\n",
        "            # Expand Neighbors\n",
        "            for neighbor, edge_cost in self.graph.get_neighbors(city):\n",
        "                if neighbor not in visited:\n",
        "                    heapq.heappush(priority_queue, (cost + edge_cost, neighbor, path + [neighbor]))\n",
        "\n",
        "        return float(\"inf\"), []  # No path found\n"
      ],
      "metadata": {
        "id": "z3gypu1A8g4E"
      },
      "execution_count": 11,
      "outputs": []
    },
    {
      "cell_type": "code",
      "source": [
        "# Find shortest path\n",
        "ucs_solver = UniformCostSearch(ethiopia_map)\n",
        "cost, path = ucs_solver.find_path(\"Addis Ababa\", \"Lalibela\")\n",
        "\n",
        "# Print results\n",
        "print(f\"🛣️ Shortest Path to Lalibela: {' -> '.join(path)}\")\n",
        "print(f\"🔢 Total Cost: {cost}\")\n"
      ],
      "metadata": {
        "colab": {
          "base_uri": "https://localhost:8080/"
        },
        "id": "e1e-lFYAKpeM",
        "outputId": "08303b0c-ded6-4388-958b-24403ec125f1"
      },
      "execution_count": 12,
      "outputs": [
        {
          "output_type": "stream",
          "name": "stdout",
          "text": [
            "🛣️ Shortest Path to Lalibela: Addis Ababa -> Debre Birhan -> Dessie -> Lalibela\n",
            "🔢 Total Cost: 34\n"
          ]
        }
      ]
    }
  ]
}