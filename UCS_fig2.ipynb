{
  "nbformat": 4,
  "nbformat_minor": 0,
  "metadata": {
    "colab": {
      "provenance": [],
      "authorship_tag": "ABX9TyMeG7L9eH1DWv6pgQCJOdor",
      "include_colab_link": true
    },
    "kernelspec": {
      "name": "python3",
      "display_name": "Python 3"
    },
    "language_info": {
      "name": "python"
    }
  },
  "cells": [
    {
      "cell_type": "markdown",
      "metadata": {
        "id": "view-in-github",
        "colab_type": "text"
      },
      "source": [
        "<a href=\"https://colab.research.google.com/github/lhiwi/AI-Principles_-advanced-searching/blob/main/UCS_fig2.ipynb\" target=\"_parent\"><img src=\"https://colab.research.google.com/assets/colab-badge.svg\" alt=\"Open In Colab\"/></a>"
      ]
    },
    {
      "cell_type": "markdown",
      "source": [
        "# **Uniform cost search**"
      ],
      "metadata": {
        "id": "KDlWnBTWBgwv"
      }
    },
    {
      "cell_type": "markdown",
      "source": [
        "# *A state space graph with backward cost for the traveling Ethiopia search problem*\n"
      ],
      "metadata": {
        "id": "Tpg8Z3POP3WB"
      }
    },
    {
      "cell_type": "code",
      "source": [
        "import heapq\n",
        "\n",
        "class EthiopiaGraph:\n",
        "    def __init__(self):\n",
        "        self.graph = {}\n",
        "\n",
        "    def add_connection(self, city1, city2, cost):\n",
        "        # A bi-directional road (edge) between cities with a given cost.\n",
        "        if city1 not in self.graph:\n",
        "            self.graph[city1] = []\n",
        "        if city2 not in self.graph:\n",
        "            self.graph[city2] = []\n",
        "        self.graph[city1].append((city2, cost))\n",
        "        self.graph[city2].append((city1, cost))\n",
        "\n",
        "    def get_neighbors(self, city):\n",
        "        return self.graph.get(city, [])\n"
      ],
      "metadata": {
        "id": "ALKOR3LqJOQY"
      },
      "execution_count": null,
      "outputs": []
    },
    {
      "cell_type": "code",
      "source": [
        "ethiopia_map = EthiopiaGraph()\n",
        "\n",
        "# connections\n",
        "ethiopia_map.add_connection(\"Addis Ababa\", \"Adama\", 3)\n",
        "ethiopia_map.add_connection(\"Addis Ababa\", \"Ambo\", 5)\n",
        "ethiopia_map.add_connection(\"Addis Ababa\", \"Debre Berhan\", 5)\n",
        "\n",
        "ethiopia_map.add_connection(\"Adama\", \"Matahara\", 3)\n",
        "ethiopia_map.add_connection(\"Adama\", \"Asella\", 4)\n",
        "ethiopia_map.add_connection(\"Adama\", \"Batu\", 4)\n",
        "\n",
        "ethiopia_map.add_connection(\"Ambo\", \"Wolkite\", 6)\n",
        "ethiopia_map.add_connection(\"Ambo\", \"Nekemte\", 9)\n",
        "\n",
        "ethiopia_map.add_connection(\"Debre Berhan\", \"Debre Sina\", 2)\n",
        "\n",
        "ethiopia_map.add_connection(\"Matahara\", \"Awash\", 1)\n",
        "\n",
        "ethiopia_map.add_connection(\"Asella\", \"Assasa\", 4)\n",
        "\n",
        "ethiopia_map.add_connection(\"Batu\", \"Buta Jirra\", 2)\n",
        "ethiopia_map.add_connection(\"Batu\", \"Shashamene\", 3)\n",
        "\n",
        "ethiopia_map.add_connection(\"Wolkite\", \"Worabe\", 5)\n",
        "ethiopia_map.add_connection(\"Wolkite\", \"Jimma\", 8)\n",
        "\n",
        "ethiopia_map.add_connection(\"Nekemte\", \"Bedelle\", 5)\n",
        "ethiopia_map.add_connection(\"Nekemte\", \"Gimbi\", 4)\n",
        "\n",
        "ethiopia_map.add_connection(\"Debre Sina\", \"Kemise\", 6)\n",
        "ethiopia_map.add_connection(\"Debre Sina\", \"Debre Markos\", 17)\n",
        "\n",
        "ethiopia_map.add_connection(\"Awash\", \"Chiro\", 4)\n",
        "ethiopia_map.add_connection(\"Awash\", \"Gobi Rasu\", 5)\n",
        "\n",
        "ethiopia_map.add_connection(\"Assasa\", \"Dodolla\", 1)\n",
        "\n",
        "ethiopia_map.add_connection(\"Buta Jirra\", \"Worabe\", 2)\n",
        "\n",
        "ethiopia_map.add_connection(\"Shashamene\", \"Hawassa\", 1)\n",
        "ethiopia_map.add_connection(\"Shashamene\", \"Dodolla\", 3)\n",
        "ethiopia_map.add_connection(\"Shashamene\", \"Hossana\", 7)\n",
        "\n",
        "ethiopia_map.add_connection(\"Worabe\", \"Hossana\", 2)\n",
        "\n",
        "ethiopia_map.add_connection(\"Jimma\", \"Bonga\", 4)\n",
        "ethiopia_map.add_connection(\"Jimma\", \"Bedelle\", 7)\n",
        "\n",
        "ethiopia_map.add_connection(\"Bedelle\", \"Gore\", 6)\n",
        "\n",
        "ethiopia_map.add_connection(\"Gimbi\", \"Dambidollo\", 6)\n",
        "\n",
        "ethiopia_map.add_connection(\"Kemise\", \"Dessie\", 4)\n",
        "\n",
        "ethiopia_map.add_connection(\"Debre Markos\", \"Finote Selam\", 3)\n",
        "\n",
        "ethiopia_map.add_connection(\"Chiro\", \"Dire Dawa\", 8)\n",
        "\n",
        "ethiopia_map.add_connection(\"Gobi Rasu\", \"Samara\", 9)\n",
        "\n",
        "ethiopia_map.add_connection(\"Dodolla\", \"Bale\", 13)\n",
        "ethiopia_map.add_connection(\"Bale\", \"Goba\", 18)\n",
        "ethiopia_map.add_connection(\"Goba\", \"Sof Oumer\", 6)\n",
        "\n",
        "ethiopia_map.add_connection(\"Hawassa\", \"Dilla\", 3)\n",
        "\n",
        "ethiopia_map.add_connection(\"Hossana\", \"Wolaita Sodo\", 4)\n",
        "\n",
        "ethiopia_map.add_connection(\"Bonga\", \"Dawro\", 10)\n",
        "ethiopia_map.add_connection(\"Bonga\", \"Tepi\", 8)\n",
        "ethiopia_map.add_connection(\"Bonga\", \"Mizan Teferi\", 4)\n",
        "\n",
        "ethiopia_map.add_connection(\"Gore\", \"Tepi\", 9)\n",
        "ethiopia_map.add_connection(\"Gore\", \"Gambella\", 5)\n",
        "\n",
        "ethiopia_map.add_connection(\"Dambidollo\", \"Assosa\", 12)\n",
        "ethiopia_map.add_connection(\"Dambidollo\", \"Gambella\", 4)\n",
        "\n",
        "ethiopia_map.add_connection(\"Dessie\", \"Woldia\", 6)\n",
        "\n",
        "ethiopia_map.add_connection(\"Finote Selam\", \"Bahirdar\", 6)\n",
        "ethiopia_map.add_connection(\"Finote Selam\", \"Injibara\", 2)\n",
        "\n",
        "ethiopia_map.add_connection(\"Dire Dawa\", \"Harar\", 4)\n",
        "\n",
        "ethiopia_map.add_connection(\"Samara\", \"Fanti Rasu\", 7)\n",
        "ethiopia_map.add_connection(\"Samara\", \"Alamata\", 11)\n",
        "ethiopia_map.add_connection(\"Samara\", \"Woldia\", 8)\n",
        "\n",
        "ethiopia_map.add_connection(\"Liben\", \"Bale\", 11)\n",
        "\n",
        "ethiopia_map.add_connection(\"Dilla\", \"Bulehora\", 4)\n",
        "\n",
        "ethiopia_map.add_connection(\"Wolaita Sodo\", \"Arba Minchi\", 5)\n",
        "ethiopia_map.add_connection(\"Wolaita Sodo\", \"Dawro\", 6)\n",
        "\n",
        "ethiopia_map.add_connection(\"Tepi\", \"Mizan Teferi\", 4)\n",
        "\n",
        "ethiopia_map.add_connection(\"Gambella\", \"Dambidollo\", 4)\n",
        "\n",
        "ethiopia_map.add_connection(\"Assosa\", \"Dambidollo\", 12)\n",
        "\n",
        "ethiopia_map.add_connection(\"Woldia\", \"Lalibella\", 7)\n",
        "ethiopia_map.add_connection(\"Woldia\", \"Alamata\", 3)\n",
        "\n",
        "ethiopia_map.add_connection(\"Bahirdar\", \"Debre Tabor\", 4)\n",
        "ethiopia_map.add_connection(\"Bahirdar\", \"Azezo\", 7)\n",
        "ethiopia_map.add_connection(\"Bahirdar\", \"Metekel\", 11)\n",
        "\n",
        "ethiopia_map.add_connection(\"Injibara\", \"Bahirdar\", 4)\n",
        "\n",
        "ethiopia_map.add_connection(\"Harar\", \"Babile\", 2)\n",
        "\n",
        "ethiopia_map.add_connection(\"Fanti Rasu\", \"Kilbet Rasu\", 6)\n",
        "\n",
        "ethiopia_map.add_connection(\"Alamata\", \"Mekelle\", 5)\n",
        "ethiopia_map.add_connection(\"Alamata\", \"Sekota\", 6)\n",
        "\n",
        "ethiopia_map.add_connection(\"Goba\", \"Sof Oumer\", 6)\n",
        "ethiopia_map.add_connection(\"Goba\", \"Bale\", 18)\n",
        "\n",
        "ethiopia_map.add_connection(\"Bulehora\", \"Yabello\", 3)\n",
        "\n",
        "ethiopia_map.add_connection(\"Arba Minchi\", \"Konso\", 4)\n",
        "ethiopia_map.add_connection(\"Arba Minchi\", \"Basketo\", 10)\n",
        "\n",
        "ethiopia_map.add_connection(\"Basketo\", \"Benchi Maji\", 5)\n",
        "\n",
        "ethiopia_map.add_connection(\"Metekel\", \"Bahirdar\", 11)\n",
        "\n",
        "ethiopia_map.add_connection(\"Lalibella\", \"Debre Tabor\", 8)\n",
        "ethiopia_map.add_connection(\"Lalibella\", \"Sekota\", 6)\n",
        "\n",
        "ethiopia_map.add_connection(\"Debre Tabor\", \"Bahirdar\", 4)\n",
        "\n",
        "ethiopia_map.add_connection(\"Azezo\", \"Gondar\", 1)\n",
        "ethiopia_map.add_connection(\"Azezo\", \"Metema\", 7)\n",
        "\n",
        "ethiopia_map.add_connection(\"Babile\", \"Jigjiga\", 3)\n",
        "\n",
        "ethiopia_map.add_connection(\"Mekelle\", \"Adwa\", 7)\n",
        "ethiopia_map.add_connection(\"Mekelle\", \"Adigrat\", 4)\n",
        "ethiopia_map.add_connection(\"Mekelle\", \"Sekota\", 9)\n",
        "\n",
        "ethiopia_map.add_connection(\"Dega Habur\", \"Jigjiga\", 5)\n",
        "ethiopia_map.add_connection(\"Dega Habur\", \"Kebri Dehar\", 6)\n",
        "\n",
        "ethiopia_map.add_connection(\"Kebri Dehar\", \"Gode\", 5)\n",
        "ethiopia_map.add_connection(\"Kebri Dehar\", \"Werdez\", 6)\n",
        "\n",
        "ethiopia_map.add_connection(\"Yabello\", \"Moyale\", 6)\n",
        "\n",
        "ethiopia_map.add_connection(\"Konso\", \"Yabello\", 3)\n",
        "\n",
        "ethiopia_map.add_connection(\"Gondar\", \"Debarke\", 4)\n",
        "ethiopia_map.add_connection(\"Gondar\", \"Humera\", 9)\n",
        "ethiopia_map.add_connection(\"Gondar\", \"Metema\", 7)\n",
        "\n",
        "ethiopia_map.add_connection(\"Adwa\", \"Axum\", 1)\n",
        "ethiopia_map.add_connection(\"Adwa\", \"Adigrat\", 4)\n",
        "\n",
        "ethiopia_map.add_connection(\"Gode\", \"Dollo\", 17)\n",
        "ethiopia_map.add_connection(\"Gode\", \"Sof Oumer\", 23)\n",
        "\n",
        "ethiopia_map.add_connection(\"Werdez\", \"Kebri Dehar\", 6)\n",
        "\n",
        "ethiopia_map.add_connection(\"Debarke\", \"Shire\", 7)\n",
        "\n",
        "ethiopia_map.add_connection(\"Axum\", \"Shire\", 2)\n",
        "ethiopia_map.add_connection(\"Axum\", \"Adwa\", 1)\n",
        "\n",
        "ethiopia_map.add_connection(\"Dollo\", \"Gode\", 17)\n",
        "\n",
        "ethiopia_map.add_connection(\"Shire\", \"Humera\", 8)"
      ],
      "metadata": {
        "id": "Dzi4PKVrHX6g"
      },
      "execution_count": null,
      "outputs": []
    },
    {
      "cell_type": "markdown",
      "source": [
        "# **Uniform cost search algorithm implemented**"
      ],
      "metadata": {
        "id": "Yf984G5dBruf"
      }
    },
    {
      "cell_type": "code",
      "source": [
        "class UniformCostSearch:\n",
        "    def __init__(self, graph):\n",
        "        self.graph = graph\n",
        "\n",
        "    def find_path(self, start, goal): #UCS from initial to goal state, returning the optimal path and cost.\n",
        "\n",
        "        priority_queue = [(0, start, [start])]\n",
        "        visited = set()\n",
        "\n",
        "        while priority_queue:\n",
        "            cost, city, path = heapq.heappop(priority_queue)\n",
        "\n",
        "            if city in visited:\n",
        "                continue\n",
        "            visited.add(city)\n",
        "\n",
        "            # Goal Reached\n",
        "            if city == goal:\n",
        "                return cost, path\n",
        "\n",
        "            # Expanding Neighbors\n",
        "            for neighbor, edge_cost in self.graph.get_neighbors(city):\n",
        "                if neighbor not in visited:\n",
        "                    heapq.heappush(priority_queue, (cost + edge_cost, neighbor, path + [neighbor]))\n",
        "\n",
        "        return float(\"inf\"), []  # No path found\n"
      ],
      "metadata": {
        "id": "z3gypu1A8g4E"
      },
      "execution_count": 37,
      "outputs": []
    },
    {
      "cell_type": "code",
      "source": [
        "# Find shortest path\n",
        "ucs_solver = UniformCostSearch(ethiopia_map)\n",
        "cost, path = ucs_solver.find_path(\"Addis Ababa\", \"Lalibela\")\n",
        "print(f\"Cost to Lalibela: {cost}\")\n",
        "print(f\"Shortest Path to Lalibela: {path}\")"
      ],
      "metadata": {
        "colab": {
          "base_uri": "https://localhost:8080/"
        },
        "id": "e1e-lFYAKpeM",
        "outputId": "9467e8e9-980b-4e0f-ebc8-4c192feda4ad"
      },
      "execution_count": 42,
      "outputs": [
        {
          "output_type": "stream",
          "name": "stdout",
          "text": [
            "Cost to Lalibela: inf\n",
            "Shortest Path to Lalibela: []\n"
          ]
        }
      ]
    },
    {
      "cell_type": "markdown",
      "source": [
        "## **UCS for multiple goals**"
      ],
      "metadata": {
        "id": "1rWm-tWzrrgF"
      }
    },
    {
      "cell_type": "code",
      "source": [
        "def uniform_cost_search_multi_goals(graph, start, goals):\n",
        "    goals = set(goals)\n",
        "    visited_goals = set()\n",
        "    total_path = []\n",
        "    total_cost = 0\n",
        "\n",
        "    current_city = start\n",
        "\n",
        "    while visited_goals != goals:\n",
        "        # Find the closest unvisited goal state using UCS\n",
        "        closest_goal = None\n",
        "        shortest_cost = float('inf')\n",
        "        shortest_path = []\n",
        "\n",
        "        for goal in goals - visited_goals:\n",
        "            cost, path = uniform_cost_search(graph, current_city, goal)\n",
        "            if cost is not None and cost < shortest_cost:\n",
        "                shortest_cost = cost\n",
        "                closest_goal = goal\n",
        "                shortest_path = path\n",
        "\n",
        "        # If no unvisited goal is reachable, terminate\n",
        "        if closest_goal is None:\n",
        "            break\n",
        "\n",
        "        # Update visited goals, total path, and total cost\n",
        "        visited_goals.add(closest_goal)\n",
        "        total_cost += shortest_cost\n",
        "        total_path.extend(shortest_path[:-1])  # Avoid duplicating cities\n",
        "        current_city = closest_goal\n",
        "\n",
        "    total_path.append(current_city)  # Add the last city to the path\n",
        "\n",
        "    # Check if all goals were visited\n",
        "    if visited_goals == goals:\n",
        "        return total_cost, total_path\n",
        "    else:\n",
        "        return None, []  # If not all goals can be visited"
      ],
      "metadata": {
        "colab": {
          "base_uri": "https://localhost:8080/"
        },
        "id": "mskbJg3Fo4k6",
        "outputId": "5f764717-7655-4427-8ed2-1d518cd049a0"
      },
      "execution_count": 39,
      "outputs": [
        {
          "output_type": "stream",
          "name": "stdout",
          "text": [
            "Total cost to visit all goals: None\n",
            "Path to visit all goals: []\n"
          ]
        }
      ]
    },
    {
      "cell_type": "code",
      "source": [
        "# List of goal states\n",
        "goal_states = [\"Axum\", \"Gondar\", \"Lalibela\", \"Babile\", \"Jimma\", \"Bale\", \"Sof Oumer\", \"Arba Minch\"]\n",
        "\n",
        "# Run multi-goal UCS from \"Addis Ababa\"\n",
        "total_cost, total_path = uniform_cost_search_multi_goals(ethiopia_map, \"Addis Ababa\", goal_states)\n",
        "print(f\"Total cost to visit all goals: {total_cost}\")\n",
        "print(f\"Shortest Path to visit all goals: {total_path}\")"
      ],
      "metadata": {
        "colab": {
          "base_uri": "https://localhost:8080/"
        },
        "id": "ibEe4CaApCqq",
        "outputId": "3a0eb609-51ef-47e3-bc1e-de46f0a077ce"
      },
      "execution_count": 41,
      "outputs": [
        {
          "output_type": "stream",
          "name": "stdout",
          "text": [
            "Total cost to visit all goals: None\n",
            "Shortest Path to visit all goals: []\n"
          ]
        }
      ]
    }
  ]
}