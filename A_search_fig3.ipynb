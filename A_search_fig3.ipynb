{
  "nbformat": 4,
  "nbformat_minor": 0,
  "metadata": {
    "colab": {
      "provenance": [],
      "authorship_tag": "ABX9TyMJO/91UKG/r7P2BJsUhUsS",
      "include_colab_link": true
    },
    "kernelspec": {
      "name": "python3",
      "display_name": "Python 3"
    },
    "language_info": {
      "name": "python"
    }
  },
  "cells": [
    {
      "cell_type": "markdown",
      "metadata": {
        "id": "view-in-github",
        "colab_type": "text"
      },
      "source": [
        "<a href=\"https://colab.research.google.com/github/lhiwi/AI-Principles_-advanced-searching/blob/main/A_search_fig3.ipynb\" target=\"_parent\"><img src=\"https://colab.research.google.com/assets/colab-badge.svg\" alt=\"Open In Colab\"/></a>"
      ]
    },
    {
      "cell_type": "markdown",
      "source": [
        "# A-star search algorithm"
      ],
      "metadata": {
        "id": "iwsp43ntAjbT"
      }
    },
    {
      "cell_type": "markdown",
      "source": [
        "# **state space graph with backward cost**"
      ],
      "metadata": {
        "id": "oYCZWSpVzFdX"
      }
    },
    {
      "cell_type": "code",
      "execution_count": 1,
      "metadata": {
        "id": "Reh9vMXFr-uM"
      },
      "outputs": [],
      "source": [
        "# Node class\n",
        "import heapq\n",
        "\n",
        "class Node:\n",
        "    def __init__(self, name, heuristic=0):\n",
        "        self.name = name\n",
        "        self.heuristic = heuristic\n",
        "        self.neighbors = []\n",
        "\n",
        "    def add_neighbor(self, neighbor, cost):\n",
        "        self.neighbors.append((neighbor, cost))"
      ]
    },
    {
      "cell_type": "code",
      "source": [
        "# Graph class\n",
        "class Graph:\n",
        "    def __init__(self):\n",
        "        self.nodes = {}\n",
        "    def add_node(self, name, heuristic=0):\n",
        "        self.nodes[name] = Node(name, heuristic)\n",
        "    def add_edge(self, from_node, to_node, cost):\n",
        "        if from_node in self.nodes and to_node in self.nodes:\n",
        "            self.nodes[from_node].add_neighbor(self.nodes[to_node], cost)\n",
        "            self.nodes[to_node].add_neighbor(self.nodes[from_node], cost)  # Assuming bidirectional roads\n",
        "    # A* search method\n",
        "    def a_star_search(self, start, goal):\n",
        "        open_list = []\n",
        "        heapq.heappush(open_list, (0 + self.nodes[start].heuristic, 0, start, []))\n",
        "        closed_set = set()\n",
        "\n",
        "        while open_list:\n",
        "            _, cost, current, path = heapq.heappop(open_list)\n",
        "\n",
        "            if current in closed_set:\n",
        "                continue\n",
        "            path = path + [current]\n",
        "            closed_set.add(current)\n",
        "\n",
        "            if current == goal:\n",
        "                return path, cost\n",
        "\n",
        "            for neighbor, travel_cost in self.nodes[current].neighbors:\n",
        "                if neighbor.name not in closed_set:\n",
        "                    total_cost = cost + travel_cost\n",
        "                    heapq.heappush(open_list, (total_cost + neighbor.heuristic, total_cost, neighbor.name, path))\n",
        "\n",
        "        return None, float('inf')\n",
        "\n"
      ],
      "metadata": {
        "id": "DC7uA0ZOu8z5"
      },
      "execution_count": 6,
      "outputs": []
    },
    {
      "cell_type": "markdown",
      "source": [
        "### Populating the graph with full data from the figure 3"
      ],
      "metadata": {
        "id": "X_kxYth97NLm"
      }
    },
    {
      "cell_type": "code",
      "source": [
        "graph = Graph()\n",
        "\n",
        "locations = {\n",
        "    \"Addis Ababa\": 50, \"Ambo\": 48, \"Batu\": 40, \"Hawassa\": 30, \"Dilla\": 20, \"Yabelo\": 10, \"Moyale\": 0,\n",
        "    \"Gondar\": 55, \"Lalibela\": 48, \"Dessie\": 45, \"Jimma\": 35, \"Dire Dawa\": 32, \"Goba\": 45, \"Harar\": 37,\n",
        "    \"Metu\": 42, \"Assosa\": 51, \"Nekemte\": 49, \"Gambella\": 52, \"Semera\": 50, \"Bahir Dar\": 53, \"Shire\": 54,\n",
        "    \"Axum\": 56, \"Mekelle\": 51, \"Adigrat\": 50, \"Kombolcha\": 46, \"Gode\": 40, \"Dollo\": 18, \"Jijiga\": 31\n",
        "}\n",
        "# Add nodes with heuristic values\n",
        "for city, heuristic in locations.items():\n",
        "    graph.add_node(city, heuristic)\n",
        "\n",
        "# Connections with costs\n",
        "connections =[\n",
        "    (\"Addis Ababa\", \"Ambo\", 5), (\"Addis Ababa\", \"Batu\", 5), (\"Addis Ababa\", \"Dessie\", 13), (\"Addis Ababa\", \"Jimma\", 9),\n",
        "    (\"Batu\", \"Hawassa\", 4), (\"Hawassa\", \"Dilla\", 6), (\"Dilla\", \"Yabelo\", 6), (\"Yabelo\", \"Moyale\", 8),\n",
        "    (\"Jimma\", \"Metu\", 4), (\"Metu\", \"Assosa\", 8), (\"Assosa\", \"Gambella\", 10),\n",
        "    (\"Dessie\", \"Lalibela\", 17), (\"Lalibela\", \"Gondar\", 10), (\"Gondar\", \"Bahir Dar\", 7),\n",
        "    (\"Dessie\", \"Kombolcha\", 3), (\"Kombolcha\", \"Harar\", 6), (\"Harar\", \"Dire Dawa\", 3), (\"Dire Dawa\", \"Gode\", 23),\n",
        "    (\"Gode\", \"Dollo\", 17), (\"Dollo\", \"Moyale\", 22),\n",
        "    (\"Bahir Dar\", \"Shire\", 9), (\"Shire\", \"Axum\", 8), (\"Axum\", \"Adigrat\", 7), (\"Adigrat\", \"Mekelle\", 6)\n",
        "]\n",
        "# Add edges to the graph\n",
        "for city1, city2, cost in connections:\n",
        "    graph.add_edge(city1, city2, cost)"
      ],
      "metadata": {
        "id": "LOFNaACD6zUw"
      },
      "execution_count": 7,
      "outputs": []
    },
    {
      "cell_type": "markdown",
      "source": [
        "# A* search from Addis Ababa to Moyale"
      ],
      "metadata": {
        "id": "gR2xfrqp7Aeb"
      }
    },
    {
      "cell_type": "code",
      "source": [
        "path, cost = graph.a_star_search(\"Addis Ababa\", \"Moyale\")\n",
        "print(\"Optimal Path:\", path)\n",
        "print(\"Total Cost:\", cost)\n"
      ],
      "metadata": {
        "colab": {
          "base_uri": "https://localhost:8080/"
        },
        "id": "U2RihzYY66LH",
        "outputId": "76f79819-dcb3-4a92-fe06-aa8f12903fcc"
      },
      "execution_count": 8,
      "outputs": [
        {
          "output_type": "stream",
          "name": "stdout",
          "text": [
            "Optimal Path: ['Addis Ababa', 'Batu', 'Hawassa', 'Dilla', 'Yabelo', 'Moyale']\n",
            "Total Cost: 29\n"
          ]
        }
      ]
    }
  ]
}